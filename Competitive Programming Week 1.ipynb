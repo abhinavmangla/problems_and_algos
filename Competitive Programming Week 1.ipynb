{
 "cells": [
  {
   "cell_type": "code",
   "execution_count": 19,
   "metadata": {},
   "outputs": [
    {
     "name": "stdout",
     "output_type": "stream",
     "text": [
      "[0, 2, 2, 4, 4, 6, 6, 8, 8, 10, 10, 12, 12, 14, 14, 16, 16, 18, 18, 20, 20]\n"
     ]
    },
    {
     "data": {
      "text/plain": [
       "-1"
      ]
     },
     "execution_count": 19,
     "metadata": {},
     "output_type": "execute_result"
    }
   ],
   "source": [
    "#Q1.1\n",
    "\n",
    "def seq_constr(x,y,z):\n",
    "    A = [0]\n",
    "    a = 0\n",
    "    odd = 0\n",
    "    even = 0\n",
    "    \n",
    "    for l in range(10):\n",
    "        \n",
    "        odd = a + x#elements at odd positions counting 1 after 0 in A\n",
    "        \n",
    "        even = odd - y #elements at even positions \"    \"    \"    \"\n",
    "        \n",
    "        A.append(odd)\n",
    "        \n",
    "        A.append(even)\n",
    "        a = even\n",
    "    print(A)\n",
    "    flag = 0 #indicates element is not found\n",
    "    for b in A:\n",
    "        if(b == z):\n",
    "            flag = 1\n",
    "            return A.index(z)\n",
    "            \n",
    "    if(flag == 0):\n",
    "        return -1\n",
    "seq_constr(2,0,3)\n"
   ]
  },
  {
   "cell_type": "code",
   "execution_count": 20,
   "metadata": {},
   "outputs": [
    {
     "ename": "SyntaxError",
     "evalue": "invalid syntax (<ipython-input-20-04b14712c0c7>, line 5)",
     "output_type": "error",
     "traceback": [
      "\u001b[0;36m  File \u001b[0;32m\"<ipython-input-20-04b14712c0c7>\"\u001b[0;36m, line \u001b[0;32m5\u001b[0m\n\u001b[0;31m    if(x > max)\u001b[0m\n\u001b[0m               ^\u001b[0m\n\u001b[0;31mSyntaxError\u001b[0m\u001b[0;31m:\u001b[0m invalid syntax\n"
     ]
    }
   ],
   "source": [
    "#Q1.2\n",
    "\n",
    "def max_element(arr):\n",
    "    maxi = 0\n",
    "    for x in arr:\n",
    "        if(x > maxi):\n",
    "            maxi = x\n",
    "            \n",
    "    return maxi\n",
    "\n",
    "def no_of_max(arr,maxi):\n",
    "    count = 0\n",
    "    for x in arr:\n",
    "        if(x == maxi):\n",
    "            count += 1\n",
    "            \n",
    "    return count\n",
    "\n",
    "def main_function(arr):\n",
    "    \n",
    "    max_ele = max_element(arr)\n",
    "    no_max = no_of_max(arr,max_ele)\n",
    "    print(max_ele)\n",
    "    if(no_max == 1):\n",
    "        arr.remove(max_ele)\n",
    "    elif(no_max > 1):\n",
    "        max_counter = 0\n",
    "        for x in range(len(arr)):\n",
    "            if(arr[x] == max_ele):\n",
    "                max_counter += 1\n",
    "                print(max_counter)\n",
    "                if(max_counter == 3):\n",
    "                    del arr[x]\n",
    "                    return arr\n",
    "                    \n",
    "    \n",
    "                \n",
    "N = int(input())\n",
    "ls = []\n",
    "for x in range(N):\n",
    "         \n",
    "    \n",
    "            \n",
    "ar = [4,1,4,2,4,3,4]\n",
    "main_function(ar)\n",
    "\n",
    "        \n",
    "\n",
    "    "
   ]
  },
  {
   "cell_type": "code",
   "execution_count": 6,
   "metadata": {},
   "outputs": [
    {
     "name": "stdout",
     "output_type": "stream",
     "text": [
      "9\n"
     ]
    },
    {
     "data": {
      "text/plain": [
       "2"
      ]
     },
     "execution_count": 6,
     "metadata": {},
     "output_type": "execute_result"
    }
   ],
   "source": [
    "#Q1.3 \n",
    "def increment(n):\n",
    "    no_digits = 0\n",
    "    x = int(n + 1)\n",
    "    while(x > 0):\n",
    "        x = int(x/10)\n",
    "        no_digits += 1\n",
    "    return no_digits\n",
    "\n",
    "\n",
    "n = int(input())\n",
    "increment(n)\n",
    "\n",
    "\n"
   ]
  },
  {
   "cell_type": "code",
   "execution_count": 4,
   "metadata": {},
   "outputs": [
    {
     "data": {
      "text/plain": [
       "'YES'"
      ]
     },
     "execution_count": 4,
     "metadata": {},
     "output_type": "execute_result"
    }
   ],
   "source": [
    "#Q1.4 Straight Flush\n",
    "#program that checks the given 5 cards constitute a straight flush or not.\n",
    "\n",
    "\n",
    "def check_str_flush(arr):\n",
    "    n = len(arr)\n",
    "    #step 1 is to check if all cards belong to the same suit.\n",
    "    if(same_suit(arr)):\n",
    "    #step2, now have to see if all cards are in sequential rank\n",
    "        for x in range(1,n):\n",
    "            if(arr[x][0] == 'A'):#if ace is both high and low then it's not a straight flush\n",
    "                return \"NO\"\n",
    "        return \"YES\"\n",
    "    else:\n",
    "        return \"NO\"\n",
    "    \n",
    "        \n",
    "    \n",
    "\n",
    "    \n",
    "        \n",
    "    \n",
    "def same_suit(arr): #this function will check if all cards belong to the same suit\n",
    "    check = arr[0][1]\n",
    "    \n",
    "    for x in arr:\n",
    "        if(x[1] != check):\n",
    "            return 0\n",
    "    return 1\n",
    "\n",
    "ar = [\"QS\",\"KS\",\"AS\",\"2S\",\"3S\"]\n",
    "ar1 = [\"AH\",\"KH\",\"QH\",\"JH\",\"TH\"]\n",
    "check_str_flush(ar1)\n",
    "\n"
   ]
  }
 ],
 "metadata": {
  "kernelspec": {
   "display_name": "Python 3",
   "language": "python",
   "name": "python3"
  },
  "language_info": {
   "codemirror_mode": {
    "name": "ipython",
    "version": 3
   },
   "file_extension": ".py",
   "mimetype": "text/x-python",
   "name": "python",
   "nbconvert_exporter": "python",
   "pygments_lexer": "ipython3",
   "version": "3.6.6"
  }
 },
 "nbformat": 4,
 "nbformat_minor": 2
}
