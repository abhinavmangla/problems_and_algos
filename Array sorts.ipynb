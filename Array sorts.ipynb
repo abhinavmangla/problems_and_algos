{
 "cells": [
  {
   "cell_type": "code",
   "execution_count": null,
   "metadata": {},
   "outputs": [],
   "source": [
    "#program to sort an array consisting of only 0's and 1's in only one pass or complexity O(n)\n",
    "\n",
    "\n",
    "def swap(i,j): \n",
    "    temp = i  \n",
    "    i = j\n",
    "    j = temp\n",
    "    \n",
    "\n",
    "def one_pass_sort(arr):\n",
    "    n = len(arr)\n",
    "    right = n - 1\n",
    "    left = 0\n",
    "    while(left < right):\n",
    "        if(arr[left] == 1):\n",
    "            (arr[left],arr[right]) = (arr[right],arr[left])#we are just putting all the ones to the left side of the array\n",
    "            right = right - 1 #this was so easy -_- \n",
    "        else:\n",
    "            left = left + 1    \n",
    "    return arr\n",
    "\n",
    "a = [0, 1, 0, 1, 1, 1]\n",
    "print(a)\n",
    "one_pass_sort(a)\n"
   ]
  },
  {
   "cell_type": "code",
   "execution_count": null,
   "metadata": {},
   "outputs": [],
   "source": [
    "#program to sort an array of 0's 1's and 2's in O(n) time\n",
    "def sort012(arr):\n",
    "    n = len(arr)\n",
    "    hi = n - 1\n",
    "    low = 0\n",
    "    mid = 0\n",
    "    for x  in range(n):\n",
    "        if(arr[mid] == 0):\n",
    "            arr[mid],arr[low] = arr[low],arr[mid]\n",
    "            low = low + 1\n",
    "            mid = mid + 1\n",
    "            \n",
    "        elif(arr[mid] == 1):\n",
    "            mid+=1 \n",
    "            \n",
    "        elif(arr[mid] ==2):\n",
    "            arr[mid],arr[hi] = arr[hi],arr[mid]\n",
    "            hi -= 1\n",
    "            \n",
    "    return arr\n",
    "\n",
    "arr = [1,0,2,1,1,2,0]\n",
    "sort012(arr)\n",
    "        "
   ]
  }
 ],
 "metadata": {
  "kernelspec": {
   "display_name": "Python 3",
   "language": "python",
   "name": "python3"
  },
  "language_info": {
   "codemirror_mode": {
    "name": "ipython",
    "version": 3
   },
   "file_extension": ".py",
   "mimetype": "text/x-python",
   "name": "python",
   "nbconvert_exporter": "python",
   "pygments_lexer": "ipython3",
   "version": "3.6.6"
  }
 },
 "nbformat": 4,
 "nbformat_minor": 2
}
